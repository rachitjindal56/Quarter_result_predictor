{
 "cells": [
  {
   "cell_type": "code",
   "execution_count": 78,
   "metadata": {},
   "outputs": [],
   "source": [
    "import os\n",
    "import numpy as np\n",
    "import pandas as pd\n",
    "import matplotlib.pyplot as plt\n",
    "import pandas_datareader as datareader\n",
    "import tensorflow as tf\n",
    "from sklearn.model_selection import train_test_split\n",
    "from sklearn.preprocessing import MinMaxScaler\n",
    "from sklearn.model_selection import train_test_split\n",
    "from sklearn.metrics import mean_squared_error, accuracy_score\n",
    "from tensorflow.keras.models import Sequential\n",
    "from tensorflow.keras.layers import Dense, LSTM, Dropout,Activation,Input, Bidirectional, Softmax, Flatten"
   ]
  },
  {
   "cell_type": "code",
   "execution_count": 2,
   "metadata": {},
   "outputs": [
    {
     "data": {
      "text/html": [
       "<div>\n",
       "<style scoped>\n",
       "    .dataframe tbody tr th:only-of-type {\n",
       "        vertical-align: middle;\n",
       "    }\n",
       "\n",
       "    .dataframe tbody tr th {\n",
       "        vertical-align: top;\n",
       "    }\n",
       "\n",
       "    .dataframe thead th {\n",
       "        text-align: right;\n",
       "    }\n",
       "</style>\n",
       "<table border=\"1\" class=\"dataframe\">\n",
       "  <thead>\n",
       "    <tr style=\"text-align: right;\">\n",
       "      <th></th>\n",
       "      <th>date</th>\n",
       "      <th>month</th>\n",
       "      <th>quarter</th>\n",
       "      <th>Target</th>\n",
       "      <th>gnp</th>\n",
       "      <th>gdpdef</th>\n",
       "      <th>gdp</th>\n",
       "    </tr>\n",
       "  </thead>\n",
       "  <tbody>\n",
       "    <tr>\n",
       "      <th>0</th>\n",
       "      <td>1/1/2000</td>\n",
       "      <td>2000-01</td>\n",
       "      <td>2000Q1</td>\n",
       "      <td>12935.252</td>\n",
       "      <td>10035.263</td>\n",
       "      <td>77.325</td>\n",
       "      <td>10002.179</td>\n",
       "    </tr>\n",
       "    <tr>\n",
       "      <th>1</th>\n",
       "      <td>4/1/2000</td>\n",
       "      <td>2000-04</td>\n",
       "      <td>2000Q2</td>\n",
       "      <td>13170.749</td>\n",
       "      <td>10283.391</td>\n",
       "      <td>77.807</td>\n",
       "      <td>10247.720</td>\n",
       "    </tr>\n",
       "    <tr>\n",
       "      <th>2</th>\n",
       "      <td>7/1/2000</td>\n",
       "      <td>2000-07</td>\n",
       "      <td>2000Q3</td>\n",
       "      <td>13183.890</td>\n",
       "      <td>10348.645</td>\n",
       "      <td>78.263</td>\n",
       "      <td>10318.165</td>\n",
       "    </tr>\n",
       "    <tr>\n",
       "      <th>3</th>\n",
       "      <td>10/1/2000</td>\n",
       "      <td>2000-10</td>\n",
       "      <td>2000Q4</td>\n",
       "      <td>13262.250</td>\n",
       "      <td>10490.430</td>\n",
       "      <td>78.688</td>\n",
       "      <td>10435.744</td>\n",
       "    </tr>\n",
       "    <tr>\n",
       "      <th>4</th>\n",
       "      <td>1/1/2001</td>\n",
       "      <td>2001-01</td>\n",
       "      <td>2001Q1</td>\n",
       "      <td>13219.251</td>\n",
       "      <td>10510.297</td>\n",
       "      <td>79.204</td>\n",
       "      <td>10470.231</td>\n",
       "    </tr>\n",
       "  </tbody>\n",
       "</table>\n",
       "</div>"
      ],
      "text/plain": [
       "        date    month quarter     Target        gnp  gdpdef        gdp\n",
       "0   1/1/2000  2000-01  2000Q1  12935.252  10035.263  77.325  10002.179\n",
       "1   4/1/2000  2000-04  2000Q2  13170.749  10283.391  77.807  10247.720\n",
       "2   7/1/2000  2000-07  2000Q3  13183.890  10348.645  78.263  10318.165\n",
       "3  10/1/2000  2000-10  2000Q4  13262.250  10490.430  78.688  10435.744\n",
       "4   1/1/2001  2001-01  2001Q1  13219.251  10510.297  79.204  10470.231"
      ]
     },
     "execution_count": 2,
     "metadata": {},
     "output_type": "execute_result"
    }
   ],
   "source": [
    "data = pd.read_csv(\"C:/Users/Rachit/Downloads/fred_quarterly.csv\")\n",
    "data.head()"
   ]
  },
  {
   "cell_type": "code",
   "execution_count": 3,
   "metadata": {},
   "outputs": [
    {
     "data": {
      "text/plain": [
       "((86, 7),\n",
       " date       0\n",
       " month      0\n",
       " quarter    0\n",
       " Target     0\n",
       " gnp        1\n",
       " gdpdef     0\n",
       " gdp        0\n",
       " dtype: int64)"
      ]
     },
     "execution_count": 3,
     "metadata": {},
     "output_type": "execute_result"
    }
   ],
   "source": [
    "data.shape, data.isnull().sum()"
   ]
  },
  {
   "cell_type": "code",
   "execution_count": 4,
   "metadata": {},
   "outputs": [],
   "source": [
    "data.dropna(axis=0,inplace=True)"
   ]
  },
  {
   "cell_type": "code",
   "execution_count": 5,
   "metadata": {},
   "outputs": [
    {
     "name": "stdout",
     "output_type": "stream",
     "text": [
      "<class 'pandas.core.frame.DataFrame'>\n",
      "Int64Index: 85 entries, 0 to 84\n",
      "Data columns (total 7 columns):\n",
      " #   Column   Non-Null Count  Dtype  \n",
      "---  ------   --------------  -----  \n",
      " 0   date     85 non-null     object \n",
      " 1   month    85 non-null     object \n",
      " 2   quarter  85 non-null     object \n",
      " 3   Target   85 non-null     float64\n",
      " 4   gnp      85 non-null     float64\n",
      " 5   gdpdef   85 non-null     float64\n",
      " 6   gdp      85 non-null     float64\n",
      "dtypes: float64(4), object(3)\n",
      "memory usage: 5.3+ KB\n"
     ]
    },
    {
     "data": {
      "text/plain": [
       "((85, 7), None)"
      ]
     },
     "execution_count": 5,
     "metadata": {},
     "output_type": "execute_result"
    }
   ],
   "source": [
    "data.shape, data.info()"
   ]
  },
  {
   "cell_type": "code",
   "execution_count": 6,
   "metadata": {},
   "outputs": [],
   "source": [
    "data['date'] = pd.to_datetime(data['date'])"
   ]
  },
  {
   "cell_type": "code",
   "execution_count": 7,
   "metadata": {},
   "outputs": [
    {
     "data": {
      "text/html": [
       "<div>\n",
       "<style scoped>\n",
       "    .dataframe tbody tr th:only-of-type {\n",
       "        vertical-align: middle;\n",
       "    }\n",
       "\n",
       "    .dataframe tbody tr th {\n",
       "        vertical-align: top;\n",
       "    }\n",
       "\n",
       "    .dataframe thead th {\n",
       "        text-align: right;\n",
       "    }\n",
       "</style>\n",
       "<table border=\"1\" class=\"dataframe\">\n",
       "  <thead>\n",
       "    <tr style=\"text-align: right;\">\n",
       "      <th></th>\n",
       "      <th>date</th>\n",
       "      <th>month</th>\n",
       "      <th>quarter</th>\n",
       "      <th>Target</th>\n",
       "      <th>gnp</th>\n",
       "      <th>gdpdef</th>\n",
       "      <th>gdp</th>\n",
       "    </tr>\n",
       "  </thead>\n",
       "  <tbody>\n",
       "    <tr>\n",
       "      <th>0</th>\n",
       "      <td>2000-01-01</td>\n",
       "      <td>2000-01</td>\n",
       "      <td>2000Q1</td>\n",
       "      <td>12935.252</td>\n",
       "      <td>10035.263</td>\n",
       "      <td>77.325</td>\n",
       "      <td>10002.179</td>\n",
       "    </tr>\n",
       "    <tr>\n",
       "      <th>1</th>\n",
       "      <td>2000-04-01</td>\n",
       "      <td>2000-04</td>\n",
       "      <td>2000Q2</td>\n",
       "      <td>13170.749</td>\n",
       "      <td>10283.391</td>\n",
       "      <td>77.807</td>\n",
       "      <td>10247.720</td>\n",
       "    </tr>\n",
       "    <tr>\n",
       "      <th>2</th>\n",
       "      <td>2000-07-01</td>\n",
       "      <td>2000-07</td>\n",
       "      <td>2000Q3</td>\n",
       "      <td>13183.890</td>\n",
       "      <td>10348.645</td>\n",
       "      <td>78.263</td>\n",
       "      <td>10318.165</td>\n",
       "    </tr>\n",
       "    <tr>\n",
       "      <th>3</th>\n",
       "      <td>2000-10-01</td>\n",
       "      <td>2000-10</td>\n",
       "      <td>2000Q4</td>\n",
       "      <td>13262.250</td>\n",
       "      <td>10490.430</td>\n",
       "      <td>78.688</td>\n",
       "      <td>10435.744</td>\n",
       "    </tr>\n",
       "    <tr>\n",
       "      <th>4</th>\n",
       "      <td>2001-01-01</td>\n",
       "      <td>2001-01</td>\n",
       "      <td>2001Q1</td>\n",
       "      <td>13219.251</td>\n",
       "      <td>10510.297</td>\n",
       "      <td>79.204</td>\n",
       "      <td>10470.231</td>\n",
       "    </tr>\n",
       "  </tbody>\n",
       "</table>\n",
       "</div>"
      ],
      "text/plain": [
       "        date    month quarter     Target        gnp  gdpdef        gdp\n",
       "0 2000-01-01  2000-01  2000Q1  12935.252  10035.263  77.325  10002.179\n",
       "1 2000-04-01  2000-04  2000Q2  13170.749  10283.391  77.807  10247.720\n",
       "2 2000-07-01  2000-07  2000Q3  13183.890  10348.645  78.263  10318.165\n",
       "3 2000-10-01  2000-10  2000Q4  13262.250  10490.430  78.688  10435.744\n",
       "4 2001-01-01  2001-01  2001Q1  13219.251  10510.297  79.204  10470.231"
      ]
     },
     "execution_count": 7,
     "metadata": {},
     "output_type": "execute_result"
    }
   ],
   "source": [
    "data.head()"
   ]
  },
  {
   "cell_type": "code",
   "execution_count": 8,
   "metadata": {},
   "outputs": [
    {
     "data": {
      "text/html": [
       "<div>\n",
       "<style scoped>\n",
       "    .dataframe tbody tr th:only-of-type {\n",
       "        vertical-align: middle;\n",
       "    }\n",
       "\n",
       "    .dataframe tbody tr th {\n",
       "        vertical-align: top;\n",
       "    }\n",
       "\n",
       "    .dataframe thead th {\n",
       "        text-align: right;\n",
       "    }\n",
       "</style>\n",
       "<table border=\"1\" class=\"dataframe\">\n",
       "  <thead>\n",
       "    <tr style=\"text-align: right;\">\n",
       "      <th></th>\n",
       "      <th>month</th>\n",
       "      <th>quarter</th>\n",
       "      <th>Target</th>\n",
       "      <th>gnp</th>\n",
       "      <th>gdpdef</th>\n",
       "      <th>gdp</th>\n",
       "    </tr>\n",
       "    <tr>\n",
       "      <th>date</th>\n",
       "      <th></th>\n",
       "      <th></th>\n",
       "      <th></th>\n",
       "      <th></th>\n",
       "      <th></th>\n",
       "      <th></th>\n",
       "    </tr>\n",
       "  </thead>\n",
       "  <tbody>\n",
       "    <tr>\n",
       "      <th>2000-01-01</th>\n",
       "      <td>2000-01</td>\n",
       "      <td>2000Q1</td>\n",
       "      <td>12935.252</td>\n",
       "      <td>10035.263</td>\n",
       "      <td>77.325</td>\n",
       "      <td>10002.179</td>\n",
       "    </tr>\n",
       "    <tr>\n",
       "      <th>2000-04-01</th>\n",
       "      <td>2000-04</td>\n",
       "      <td>2000Q2</td>\n",
       "      <td>13170.749</td>\n",
       "      <td>10283.391</td>\n",
       "      <td>77.807</td>\n",
       "      <td>10247.720</td>\n",
       "    </tr>\n",
       "    <tr>\n",
       "      <th>2000-07-01</th>\n",
       "      <td>2000-07</td>\n",
       "      <td>2000Q3</td>\n",
       "      <td>13183.890</td>\n",
       "      <td>10348.645</td>\n",
       "      <td>78.263</td>\n",
       "      <td>10318.165</td>\n",
       "    </tr>\n",
       "    <tr>\n",
       "      <th>2000-10-01</th>\n",
       "      <td>2000-10</td>\n",
       "      <td>2000Q4</td>\n",
       "      <td>13262.250</td>\n",
       "      <td>10490.430</td>\n",
       "      <td>78.688</td>\n",
       "      <td>10435.744</td>\n",
       "    </tr>\n",
       "    <tr>\n",
       "      <th>2001-01-01</th>\n",
       "      <td>2001-01</td>\n",
       "      <td>2001Q1</td>\n",
       "      <td>13219.251</td>\n",
       "      <td>10510.297</td>\n",
       "      <td>79.204</td>\n",
       "      <td>10470.231</td>\n",
       "    </tr>\n",
       "  </tbody>\n",
       "</table>\n",
       "</div>"
      ],
      "text/plain": [
       "              month quarter     Target        gnp  gdpdef        gdp\n",
       "date                                                                \n",
       "2000-01-01  2000-01  2000Q1  12935.252  10035.263  77.325  10002.179\n",
       "2000-04-01  2000-04  2000Q2  13170.749  10283.391  77.807  10247.720\n",
       "2000-07-01  2000-07  2000Q3  13183.890  10348.645  78.263  10318.165\n",
       "2000-10-01  2000-10  2000Q4  13262.250  10490.430  78.688  10435.744\n",
       "2001-01-01  2001-01  2001Q1  13219.251  10510.297  79.204  10470.231"
      ]
     },
     "execution_count": 8,
     "metadata": {},
     "output_type": "execute_result"
    }
   ],
   "source": [
    "data.set_index('date',inplace=True)\n",
    "data.head()"
   ]
  },
  {
   "cell_type": "code",
   "execution_count": 9,
   "metadata": {},
   "outputs": [
    {
     "data": {
      "text/html": [
       "<div>\n",
       "<style scoped>\n",
       "    .dataframe tbody tr th:only-of-type {\n",
       "        vertical-align: middle;\n",
       "    }\n",
       "\n",
       "    .dataframe tbody tr th {\n",
       "        vertical-align: top;\n",
       "    }\n",
       "\n",
       "    .dataframe thead th {\n",
       "        text-align: right;\n",
       "    }\n",
       "</style>\n",
       "<table border=\"1\" class=\"dataframe\">\n",
       "  <thead>\n",
       "    <tr style=\"text-align: right;\">\n",
       "      <th></th>\n",
       "      <th>Target</th>\n",
       "    </tr>\n",
       "    <tr>\n",
       "      <th>date</th>\n",
       "      <th></th>\n",
       "    </tr>\n",
       "  </thead>\n",
       "  <tbody>\n",
       "    <tr>\n",
       "      <th>2000-01-01</th>\n",
       "      <td>12935.252</td>\n",
       "    </tr>\n",
       "    <tr>\n",
       "      <th>2000-04-01</th>\n",
       "      <td>13170.749</td>\n",
       "    </tr>\n",
       "    <tr>\n",
       "      <th>2000-07-01</th>\n",
       "      <td>13183.890</td>\n",
       "    </tr>\n",
       "    <tr>\n",
       "      <th>2000-10-01</th>\n",
       "      <td>13262.250</td>\n",
       "    </tr>\n",
       "    <tr>\n",
       "      <th>2001-01-01</th>\n",
       "      <td>13219.251</td>\n",
       "    </tr>\n",
       "  </tbody>\n",
       "</table>\n",
       "</div>"
      ],
      "text/plain": [
       "               Target\n",
       "date                 \n",
       "2000-01-01  12935.252\n",
       "2000-04-01  13170.749\n",
       "2000-07-01  13183.890\n",
       "2000-10-01  13262.250\n",
       "2001-01-01  13219.251"
      ]
     },
     "execution_count": 9,
     "metadata": {},
     "output_type": "execute_result"
    }
   ],
   "source": [
    "dz = data.filter(['Target'])\n",
    "dz.head()"
   ]
  },
  {
   "cell_type": "code",
   "execution_count": 10,
   "metadata": {},
   "outputs": [
    {
     "data": {
      "image/png": "[encoded data removed]",
      "text/plain": [
       "<Figure size 1152x432 with 1 Axes>"
      ]
     },
     "metadata": {},
     "output_type": "display_data"
    }
   ],
   "source": [
    "plt.style.use('fivethirtyeight')\n",
    "plt.figure(figsize=(16,6))\n",
    "plt.plot(dz)\n",
    "plt.show()"
   ]
  },
  {
   "cell_type": "code",
   "execution_count": 11,
   "metadata": {},
   "outputs": [
    {
     "name": "stdout",
     "output_type": "stream",
     "text": [
      "(85, 1)\n",
      "(85, 1, 1)\n"
     ]
    }
   ],
   "source": [
    "print(dz.shape)\n",
    "df = dz.values.reshape(dz.shape[0],dz.shape[1],1)\n",
    "print(df.shape)"
   ]
  },
  {
   "cell_type": "code",
   "execution_count": 12,
   "metadata": {},
   "outputs": [
    {
     "data": {
      "text/plain": [
       "85"
      ]
     },
     "execution_count": 12,
     "metadata": {},
     "output_type": "execute_result"
    }
   ],
   "source": [
    "scalar = MinMaxScaler(feature_range=(0,1))\n",
    "scaled_data = scalar.fit_transform(df.reshape(-1,1))\n",
    "len(scaled_data)"
   ]
  },
  {
   "cell_type": "code",
   "execution_count": 45,
   "metadata": {},
   "outputs": [],
   "source": [
    "train_len = int(len(scaled_data)*0.75)\n",
    "test_len = len(scaled_data)-train_len\n",
    "\n",
    "train_data = scaled_data[0:train_len]\n",
    "test_data = scaled_data[train_len-7:]"
   ]
  },
  {
   "cell_type": "code",
   "execution_count": 46,
   "metadata": {},
   "outputs": [
    {
     "name": "stdout",
     "output_type": "stream",
     "text": [
      "63 22\n"
     ]
    }
   ],
   "source": [
    "print(train_len, test_len)"
   ]
  },
  {
   "cell_type": "code",
   "execution_count": 47,
   "metadata": {},
   "outputs": [
    {
     "name": "stdout",
     "output_type": "stream",
     "text": [
      "(56, 7, 1)\n"
     ]
    }
   ],
   "source": [
    "x_train = []\n",
    "y_train = []\n",
    "\n",
    "for i in range(7,train_len):\n",
    "    x_train.append(train_data[i-7:i,0])\n",
    "    y_train.append(train_data[i,0])\n",
    "    \n",
    "    \n",
    "x_train,y_train = np.array(x_train), np.array(y_train)\n",
    "\n",
    "x_train = x_train.reshape(x_train.shape[0],x_train.shape[1],1)\n",
    "\n",
    "print(x_train.shape)\n",
    "\n",
    "x_test = []\n",
    "y_test = []\n",
    "\n",
    "for i in range(7,len(test_data)):\n",
    "    x_test.append(test_data[i-7:i,0])\n",
    "    y_test.append(test_data[i,0])\n",
    "    \n",
    "x_test,y_test = np.array(x_test),np.array(y_test)\n",
    "x_test = x_test.reshape(x_test.shape[0],x_test.shape[1],1)"
   ]
  },
  {
   "cell_type": "code",
   "execution_count": 148,
   "metadata": {},
   "outputs": [],
   "source": [
    "model = Sequential()\n",
    "model.add(Bidirectional(LSTM(100,return_sequences=True),input_shape = (x_train.shape[1],1)))\n",
    "# model.add(Bidirectional(LSTM(64,dropout=0.2, recurrent_dropout=0.2,return_sequences=True,activation='relu')))\n",
    "model.add(Dropout(0.2))\n",
    "model.add(LSTM(50,return_sequences=False))\n",
    "model.add(Dropout(0.2))\n",
    "model.add(Flatten())\n",
    "# model.add(Dropout(0.2))\n",
    "model.add(Dense(25))\n",
    "model.add(Activation('relu'))\n",
    "model.add(Dense(10))\n",
    "model.add(Dense(1))"
   ]
  },
  {
   "cell_type": "code",
   "execution_count": 149,
   "metadata": {},
   "outputs": [
    {
     "name": "stdout",
     "output_type": "stream",
     "text": [
      "Model: \"sequential_13\"\n",
      "_________________________________________________________________\n",
      "Layer (type)                 Output Shape              Param #   \n",
      "=================================================================\n",
      "bidirectional_18 (Bidirectio (None, 7, 200)            81600     \n",
      "_________________________________________________________________\n",
      "dropout_16 (Dropout)         (None, 7, 200)            0         \n",
      "_________________________________________________________________\n",
      "lstm_31 (LSTM)               (None, 50)                50200     \n",
      "_________________________________________________________________\n",
      "dropout_17 (Dropout)         (None, 50)                0         \n",
      "_________________________________________________________________\n",
      "flatten_7 (Flatten)          (None, 50)                0         \n",
      "_________________________________________________________________\n",
      "dense_26 (Dense)             (None, 25)                1275      \n",
      "_________________________________________________________________\n",
      "activation_3 (Activation)    (None, 25)                0         \n",
      "_________________________________________________________________\n",
      "dense_27 (Dense)             (None, 10)                260       \n",
      "_________________________________________________________________\n",
      "dense_28 (Dense)             (None, 1)                 11        \n",
      "=================================================================\n",
      "Total params: 133,346\n",
      "Trainable params: 133,346\n",
      "Non-trainable params: 0\n",
      "_________________________________________________________________\n"
     ]
    }
   ],
   "source": [
    "model.compile(optimizer=tf.optimizers.Adam(learning_rate=0.01),loss='mean_squared_error')\n",
    "model.summary()"
   ]
  },
  {
   "cell_type": "code",
   "execution_count": 150,
   "metadata": {},
   "outputs": [
    {
     "name": "stdout",
     "output_type": "stream",
     "text": [
      "Epoch 1/100\n",
      "50/50 [==============================] - 1s 23ms/step - loss: 0.0304 - val_loss: 0.0038\n",
      "Epoch 2/100\n",
      "50/50 [==============================] - 0s 3ms/step - loss: 0.0093 - val_loss: 0.0309\n",
      "Epoch 3/100\n",
      "50/50 [==============================] - 0s 3ms/step - loss: 0.0033 - val_loss: 0.0234\n",
      "Epoch 4/100\n",
      "50/50 [==============================] - 0s 3ms/step - loss: 0.0043 - val_loss: 0.0283\n",
      "Epoch 5/100\n",
      "50/50 [==============================] - 0s 3ms/step - loss: 0.0041 - val_loss: 0.0100\n",
      "Epoch 6/100\n",
      "50/50 [==============================] - 0s 3ms/step - loss: 0.0051 - val_loss: 0.0105\n",
      "Epoch 7/100\n",
      "50/50 [==============================] - 0s 3ms/step - loss: 0.0070 - val_loss: 0.0073\n",
      "Epoch 8/100\n",
      "50/50 [==============================] - 0s 3ms/step - loss: 0.0073 - val_loss: 0.0329\n",
      "Epoch 9/100\n",
      "50/50 [==============================] - 0s 3ms/step - loss: 0.0056 - val_loss: 0.0031\n",
      "Epoch 10/100\n",
      "50/50 [==============================] - 0s 3ms/step - loss: 0.0045 - val_loss: 1.3449e-04\n",
      "Epoch 11/100\n",
      "50/50 [==============================] - 0s 3ms/step - loss: 0.0020 - val_loss: 0.0066\n",
      "Epoch 12/100\n",
      "50/50 [==============================] - 0s 3ms/step - loss: 0.0032 - val_loss: 0.0073\n",
      "Epoch 13/100\n",
      "50/50 [==============================] - 0s 3ms/step - loss: 0.0032 - val_loss: 0.0174\n",
      "Epoch 14/100\n",
      "50/50 [==============================] - 0s 3ms/step - loss: 0.0020 - val_loss: 0.0073\n",
      "Epoch 15/100\n",
      "50/50 [==============================] - 0s 3ms/step - loss: 0.0044 - val_loss: 0.0062\n",
      "Epoch 16/100\n",
      "50/50 [==============================] - 0s 3ms/step - loss: 0.0024 - val_loss: 0.0031\n",
      "Epoch 17/100\n",
      "50/50 [==============================] - 0s 3ms/step - loss: 0.0057 - val_loss: 0.0100\n",
      "Epoch 18/100\n",
      "50/50 [==============================] - 0s 3ms/step - loss: 0.0022 - val_loss: 0.0064\n",
      "Epoch 19/100\n",
      "50/50 [==============================] - 0s 3ms/step - loss: 0.0014 - val_loss: 7.0762e-05\n",
      "Epoch 20/100\n",
      "50/50 [==============================] - 0s 3ms/step - loss: 0.0041 - val_loss: 0.0126\n",
      "Epoch 21/100\n",
      "50/50 [==============================] - 0s 3ms/step - loss: 0.0015 - val_loss: 1.5564e-04\n",
      "Epoch 22/100\n",
      "50/50 [==============================] - 0s 3ms/step - loss: 0.0034 - val_loss: 0.0299\n",
      "Epoch 23/100\n",
      "50/50 [==============================] - 0s 3ms/step - loss: 0.0019 - val_loss: 0.0069\n",
      "Epoch 24/100\n",
      "50/50 [==============================] - 0s 3ms/step - loss: 0.0023 - val_loss: 0.0059\n",
      "Epoch 25/100\n",
      "50/50 [==============================] - 0s 3ms/step - loss: 0.0014 - val_loss: 0.0016\n",
      "Epoch 26/100\n",
      "50/50 [==============================] - 0s 4ms/step - loss: 0.0031 - val_loss: 0.0026\n",
      "Epoch 27/100\n",
      "50/50 [==============================] - 0s 3ms/step - loss: 0.0031 - val_loss: 0.0079\n",
      "Epoch 28/100\n",
      "50/50 [==============================] - 0s 3ms/step - loss: 0.0017 - val_loss: 0.0020\n",
      "Epoch 29/100\n",
      "50/50 [==============================] - 0s 3ms/step - loss: 0.0022 - val_loss: 4.8730e-04\n",
      "Epoch 30/100\n",
      "50/50 [==============================] - 0s 3ms/step - loss: 0.0020 - val_loss: 0.0049\n",
      "Epoch 31/100\n",
      "50/50 [==============================] - 0s 3ms/step - loss: 0.0013 - val_loss: 7.8978e-05\n",
      "Epoch 32/100\n",
      "50/50 [==============================] - 0s 3ms/step - loss: 0.0012 - val_loss: 8.1115e-05\n",
      "Epoch 33/100\n",
      "50/50 [==============================] - 0s 3ms/step - loss: 0.0027 - val_loss: 0.0032\n",
      "Epoch 34/100\n",
      "50/50 [==============================] - 0s 3ms/step - loss: 0.0017 - val_loss: 0.0049\n",
      "Epoch 35/100\n",
      "50/50 [==============================] - 0s 3ms/step - loss: 0.0022 - val_loss: 1.5449e-04\n",
      "Epoch 36/100\n",
      "50/50 [==============================] - 0s 3ms/step - loss: 0.0015 - val_loss: 0.0165\n",
      "Epoch 37/100\n",
      "50/50 [==============================] - 0s 3ms/step - loss: 0.0078 - val_loss: 3.7368e-05\n",
      "Epoch 38/100\n",
      "50/50 [==============================] - 0s 3ms/step - loss: 0.0019 - val_loss: 0.0058\n",
      "Epoch 39/100\n",
      "50/50 [==============================] - 0s 3ms/step - loss: 0.0037 - val_loss: 0.0024\n",
      "Epoch 40/100\n",
      "50/50 [==============================] - 0s 3ms/step - loss: 0.0013 - val_loss: 0.0034\n",
      "Epoch 41/100\n",
      "50/50 [==============================] - 0s 3ms/step - loss: 0.0014 - val_loss: 0.0033\n",
      "Epoch 42/100\n",
      "50/50 [==============================] - 0s 3ms/step - loss: 0.0022 - val_loss: 0.0013\n",
      "Epoch 43/100\n",
      "50/50 [==============================] - 0s 3ms/step - loss: 0.0032 - val_loss: 0.0040\n",
      "Epoch 44/100\n",
      "50/50 [==============================] - 0s 3ms/step - loss: 0.0016 - val_loss: 0.0011\n",
      "Epoch 45/100\n",
      "50/50 [==============================] - 0s 3ms/step - loss: 0.0014 - val_loss: 0.0042\n",
      "Epoch 46/100\n",
      "50/50 [==============================] - 0s 3ms/step - loss: 0.0012 - val_loss: 0.0024\n",
      "Epoch 47/100\n",
      "50/50 [==============================] - 0s 3ms/step - loss: 0.0011 - val_loss: 0.0011\n",
      "Epoch 48/100\n",
      "50/50 [==============================] - 0s 3ms/step - loss: 0.0014 - val_loss: 0.0039\n",
      "Epoch 49/100\n",
      "50/50 [==============================] - 0s 3ms/step - loss: 9.6952e-04 - val_loss: 3.6029e-04\n",
      "Epoch 50/100\n",
      "50/50 [==============================] - 0s 3ms/step - loss: 0.0012 - val_loss: 1.1949e-04\n",
      "Epoch 51/100\n",
      "50/50 [==============================] - 0s 3ms/step - loss: 9.2370e-04 - val_loss: 0.0022\n",
      "Epoch 52/100\n",
      "50/50 [==============================] - 0s 3ms/step - loss: 0.0015 - val_loss: 2.6210e-04\n",
      "Epoch 53/100\n",
      "50/50 [==============================] - 0s 3ms/step - loss: 0.0011 - val_loss: 4.3762e-05\n",
      "Epoch 54/100\n",
      "50/50 [==============================] - 0s 3ms/step - loss: 8.4803e-04 - val_loss: 2.6587e-04\n",
      "Epoch 55/100\n",
      "50/50 [==============================] - 0s 3ms/step - loss: 0.0013 - val_loss: 0.0024\n",
      "Epoch 56/100\n",
      "50/50 [==============================] - 0s 3ms/step - loss: 0.0021 - val_loss: 4.1075e-04\n",
      "Epoch 57/100\n",
      "50/50 [==============================] - 0s 3ms/step - loss: 0.0017 - val_loss: 2.3657e-04\n",
      "Epoch 58/100\n",
      "50/50 [==============================] - 0s 4ms/step - loss: 0.0020 - val_loss: 0.0172\n",
      "Epoch 59/100\n",
      "50/50 [==============================] - 0s 4ms/step - loss: 0.0013 - val_loss: 0.0087\n",
      "Epoch 60/100\n",
      "50/50 [==============================] - 0s 4ms/step - loss: 0.0019 - val_loss: 0.0013\n",
      "Epoch 61/100\n",
      "50/50 [==============================] - 0s 3ms/step - loss: 0.0021 - val_loss: 0.0076\n",
      "Epoch 62/100\n",
      "50/50 [==============================] - 0s 4ms/step - loss: 0.0022 - val_loss: 5.0587e-04\n",
      "Epoch 63/100\n",
      "50/50 [==============================] - 0s 4ms/step - loss: 0.0014 - val_loss: 0.0055\n",
      "Epoch 64/100\n",
      "50/50 [==============================] - 0s 3ms/step - loss: 0.0023 - val_loss: 0.0217\n",
      "Epoch 65/100\n",
      "50/50 [==============================] - 0s 4ms/step - loss: 0.0021 - val_loss: 5.6958e-05\n",
      "Epoch 66/100\n",
      "50/50 [==============================] - 0s 3ms/step - loss: 9.0249e-04 - val_loss: 0.0017\n",
      "Epoch 67/100\n",
      "50/50 [==============================] - 0s 4ms/step - loss: 0.0027 - val_loss: 0.0049\n",
      "Epoch 68/100\n",
      "50/50 [==============================] - 0s 3ms/step - loss: 0.0020 - val_loss: 0.0044\n",
      "Epoch 69/100\n",
      "50/50 [==============================] - 0s 3ms/step - loss: 0.0031 - val_loss: 7.0370e-04\n",
      "Epoch 70/100\n",
      "50/50 [==============================] - 0s 3ms/step - loss: 0.0025 - val_loss: 0.0038\n",
      "Epoch 71/100\n",
      "50/50 [==============================] - 0s 3ms/step - loss: 0.0017 - val_loss: 0.0080\n",
      "Epoch 72/100\n",
      "50/50 [==============================] - 0s 4ms/step - loss: 0.0024 - val_loss: 0.0163\n",
      "Epoch 73/100\n",
      "50/50 [==============================] - 0s 3ms/step - loss: 0.0010 - val_loss: 4.3852e-04\n",
      "Epoch 74/100\n",
      "50/50 [==============================] - 0s 3ms/step - loss: 0.0024 - val_loss: 0.0022\n",
      "Epoch 75/100\n",
      "50/50 [==============================] - 0s 3ms/step - loss: 7.6801e-04 - val_loss: 0.0028\n",
      "Epoch 76/100\n",
      "50/50 [==============================] - 0s 3ms/step - loss: 0.0015 - val_loss: 0.0160\n",
      "Epoch 77/100\n",
      "50/50 [==============================] - 0s 3ms/step - loss: 0.0017 - val_loss: 0.0026\n",
      "Epoch 78/100\n",
      "50/50 [==============================] - 0s 3ms/step - loss: 0.0022 - val_loss: 3.4470e-04\n",
      "Epoch 79/100\n",
      "50/50 [==============================] - 0s 3ms/step - loss: 0.0012 - val_loss: 1.9610e-04\n",
      "Epoch 80/100\n",
      "50/50 [==============================] - 0s 3ms/step - loss: 9.2389e-04 - val_loss: 0.0062\n",
      "Epoch 81/100\n",
      "50/50 [==============================] - 0s 3ms/step - loss: 0.0013 - val_loss: 2.4268e-04\n"
     ]
    },
    {
     "name": "stdout",
     "output_type": "stream",
     "text": [
      "Epoch 82/100\n",
      "50/50 [==============================] - 0s 3ms/step - loss: 0.0011 - val_loss: 2.5107e-04\n",
      "Epoch 83/100\n",
      "50/50 [==============================] - 0s 3ms/step - loss: 7.7573e-04 - val_loss: 0.0010\n",
      "Epoch 84/100\n",
      "50/50 [==============================] - 0s 3ms/step - loss: 0.0026 - val_loss: 0.0082\n",
      "Epoch 85/100\n",
      "50/50 [==============================] - 0s 3ms/step - loss: 0.0013 - val_loss: 0.0049\n",
      "Epoch 86/100\n",
      "50/50 [==============================] - 0s 3ms/step - loss: 6.1484e-04 - val_loss: 0.0019\n",
      "Epoch 87/100\n",
      "50/50 [==============================] - 0s 3ms/step - loss: 9.9850e-04 - val_loss: 0.0012\n",
      "Epoch 88/100\n",
      "50/50 [==============================] - 0s 3ms/step - loss: 0.0010 - val_loss: 0.0099\n",
      "Epoch 89/100\n",
      "50/50 [==============================] - 0s 3ms/step - loss: 0.0012 - val_loss: 4.3126e-04\n",
      "Epoch 90/100\n",
      "50/50 [==============================] - 0s 3ms/step - loss: 0.0011 - val_loss: 1.7147e-04\n",
      "Epoch 91/100\n",
      "50/50 [==============================] - 0s 3ms/step - loss: 5.7524e-04 - val_loss: 8.4714e-04\n",
      "Epoch 92/100\n",
      "50/50 [==============================] - 0s 3ms/step - loss: 8.6720e-04 - val_loss: 0.0013\n",
      "Epoch 93/100\n",
      "50/50 [==============================] - 0s 3ms/step - loss: 9.7547e-04 - val_loss: 0.0010\n",
      "Epoch 94/100\n",
      "50/50 [==============================] - 0s 3ms/step - loss: 0.0013 - val_loss: 0.0032\n",
      "Epoch 95/100\n",
      "50/50 [==============================] - 0s 3ms/step - loss: 0.0036 - val_loss: 1.6217e-04\n",
      "Epoch 96/100\n",
      "50/50 [==============================] - 0s 3ms/step - loss: 0.0026 - val_loss: 0.0017\n",
      "Epoch 97/100\n",
      "50/50 [==============================] - 0s 3ms/step - loss: 0.0043 - val_loss: 0.0080\n",
      "Epoch 98/100\n",
      "50/50 [==============================] - 0s 3ms/step - loss: 0.0020 - val_loss: 0.0031\n",
      "Epoch 99/100\n",
      "50/50 [==============================] - 0s 3ms/step - loss: 0.0025 - val_loss: 0.0235\n",
      "Epoch 100/100\n",
      "50/50 [==============================] - 0s 3ms/step - loss: 0.0014 - val_loss: 0.0105\n"
     ]
    },
    {
     "data": {
      "text/plain": [
       "<tensorflow.python.keras.callbacks.History at 0x1a61ee5d460>"
      ]
     },
     "execution_count": 150,
     "metadata": {},
     "output_type": "execute_result"
    }
   ],
   "source": [
    "model.fit(x_train,y_train,batch_size=1,epochs=100,verbose=1,validation_split=0.1)"
   ]
  },
  {
   "cell_type": "code",
   "execution_count": 160,
   "metadata": {},
   "outputs": [
    {
     "name": "stdout",
     "output_type": "stream",
     "text": [
      "WARNING:tensorflow:Model was constructed with shape (None, 8, 1) for input Tensor(\"bidirectional_26_input_1:0\", shape=(None, 8, 1), dtype=float32), but it was called on an input with incompatible shape (None, 7, 1).\n",
      "WARNING:tensorflow:5 out of the last 13 calls to <function Model.make_predict_function.<locals>.predict_function at 0x000001A63309A8B0> triggered tf.function retracing. Tracing is expensive and the excessive number of tracings could be due to (1) creating @tf.function repeatedly in a loop, (2) passing tensors with different shapes, (3) passing Python objects instead of tensors. For (1), please define your @tf.function outside of the loop. For (2), @tf.function has experimental_relax_shapes=True option that relaxes argument shapes that can avoid unnecessary retracing. For (3), please refer to https://www.tensorflow.org/tutorials/customization/performance#python_or_tensor_args and https://www.tensorflow.org/api_docs/python/tf/function for  more details.\n"
     ]
    },
    {
     "data": {
      "text/plain": [
       "(56, 1)"
      ]
     },
     "execution_count": 160,
     "metadata": {},
     "output_type": "execute_result"
    }
   ],
   "source": [
    "train_predict = model.predict(x_train)\n",
    "train_predict.shape"
   ]
  },
  {
   "cell_type": "code",
   "execution_count": 187,
   "metadata": {},
   "outputs": [
    {
     "data": {
      "text/plain": [
       "(56, 7, 1)"
      ]
     },
     "execution_count": 187,
     "metadata": {},
     "output_type": "execute_result"
    }
   ],
   "source": [
    "x_train.shape"
   ]
  },
  {
   "cell_type": "code",
   "execution_count": 190,
   "metadata": {},
   "outputs": [
    {
     "data": {
      "text/plain": [
       "(56, 1)"
      ]
     },
     "execution_count": 190,
     "metadata": {},
     "output_type": "execute_result"
    }
   ],
   "source": [
    "train_predictions = scalar.inverse_transform(train_predict)\n",
    "train_predictions.shape"
   ]
  },
  {
   "cell_type": "code",
   "execution_count": 163,
   "metadata": {},
   "outputs": [
    {
     "data": {
      "text/plain": [
       "(22, 1)"
      ]
     },
     "execution_count": 163,
     "metadata": {},
     "output_type": "execute_result"
    }
   ],
   "source": [
    "predictions = model.predict(x_test)\n",
    "predictions.shape"
   ]
  },
  {
   "cell_type": "code",
   "execution_count": 164,
   "metadata": {},
   "outputs": [
    {
     "data": {
      "text/plain": [
       "(array([14073.45 , 14075.598, 14087.567, 14112.747, 14128.948, 14129.766,\n",
       "        14129.766, 14131.366, 14161.352, 14226.853, 14299.352, 14377.702,\n",
       "        14468.382, 14579.61 , 14705.347, 14811.384, 14933.046, 15077.486,\n",
       "        15292.166, 15347.212, 15388.768, 15449.551, 15497.416, 15553.739,\n",
       "        15613.   , 15673.626, 15691.284, 15732.645, 15729.875, 15636.897,\n",
       "        15541.715, 15475.691, 15444.344, 15463.4  , 15489.563, 15546.909,\n",
       "        15618.235, 15687.132, 15719.447, 15774.421, 15801.771, 15873.742,\n",
       "        15950.727, 16017.556, 16066.947, 16105.589, 16175.972, 16221.329,\n",
       "        16293.358, 16371.519, 16394.592, 16493.145, 16613.432, 16706.855,\n",
       "        16820.47 , 16923.107], dtype=float32),\n",
       " array([13284.881, 13394.91 , 13477.356, 13531.741, 13549.421, 13619.434,\n",
       "        13741.107, 13970.157, 14131.379, 14212.34 , 14323.017, 14457.832,\n",
       "        14605.595, 14767.846, 14839.707, 14956.291, 15041.232, 15244.088,\n",
       "        15281.525, 15304.517, 15433.643, 15478.956, 15577.779, 15671.605,\n",
       "        15767.146, 15702.906, 15792.773, 15709.562, 15366.607, 15187.475,\n",
       "        15161.772, 15216.647, 15379.155, 15456.059, 15605.628, 15726.282,\n",
       "        15807.995, 15769.911, 15876.839, 15870.684, 16048.702, 16179.968,\n",
       "        16253.726, 16282.151, 16300.035, 16441.485, 16464.402, 16594.743,\n",
       "        16712.76 , 16654.247, 16868.109, 17064.616, 17141.235, 17280.647,\n",
       "        17380.875, 17437.08 ]))"
      ]
     },
     "execution_count": 164,
     "metadata": {},
     "output_type": "execute_result"
    }
   ],
   "source": [
    "train_predictions.reshape(-1), scalar.inverse_transform(y_train.reshape(-1,1)).reshape(-1)"
   ]
  },
  {
   "cell_type": "code",
   "execution_count": 165,
   "metadata": {},
   "outputs": [
    {
     "name": "stdout",
     "output_type": "stream",
     "text": [
      "0.09881505658041832\n"
     ]
    }
   ],
   "source": [
    "loss = np.sqrt(mean_squared_error(y_test,predictions))\n",
    "print(loss)"
   ]
  },
  {
   "cell_type": "code",
   "execution_count": 193,
   "metadata": {},
   "outputs": [
    {
     "data": {
      "text/plain": [
       "(22, (22, 1))"
      ]
     },
     "execution_count": 193,
     "metadata": {},
     "output_type": "execute_result"
    }
   ],
   "source": [
    "85-train_len,predictions.shape"
   ]
  },
  {
   "cell_type": "code",
   "execution_count": 194,
   "metadata": {},
   "outputs": [
    {
     "name": "stderr",
     "output_type": "stream",
     "text": [
      "<ipython-input-194-fdf95d9582b7>:2: SettingWithCopyWarning: \n",
      "A value is trying to be set on a copy of a slice from a DataFrame.\n",
      "Try using .loc[row_indexer,col_indexer] = value instead\n",
      "\n",
      "See the caveats in the documentation: https://pandas.pydata.org/pandas-docs/stable/user_guide/indexing.html#returning-a-view-versus-a-copy\n",
      "  train_x['predictions'] = np.append([[0],[0],[0],[0],[0],[0],[0]],train_predictions)\n",
      "<ipython-input-194-fdf95d9582b7>:4: SettingWithCopyWarning: \n",
      "A value is trying to be set on a copy of a slice from a DataFrame.\n",
      "Try using .loc[row_indexer,col_indexer] = value instead\n",
      "\n",
      "See the caveats in the documentation: https://pandas.pydata.org/pandas-docs/stable/user_guide/indexing.html#returning-a-view-versus-a-copy\n",
      "  valid['predictions'] = scalar.inverse_transform(predictions)\n"
     ]
    }
   ],
   "source": [
    "train_x = dz[:train_len]\n",
    "train_x['predictions'] = np.append([[0],[0],[0],[0],[0],[0],[0]],train_predictions)\n",
    "valid = dz[train_len:]\n",
    "valid['predictions'] = scalar.inverse_transform(predictions)"
   ]
  },
  {
   "cell_type": "code",
   "execution_count": 196,
   "metadata": {},
   "outputs": [
    {
     "data": {
      "image/png": "[encoded data removed]",
      "text/plain": [
       "<Figure size 1152x432 with 1 Axes>"
      ]
     },
     "metadata": {},
     "output_type": "display_data"
    }
   ],
   "source": [
    "plt.style.use('fivethirtyeight')\n",
    "plt.figure(figsize=(16,6))\n",
    "plt.plot(train_x['Target'][7:],'*')\n",
    "plt.plot(train_x['predictions'][7:])\n",
    "plt.show()"
   ]
  },
  {
   "cell_type": "code",
   "execution_count": null,
   "metadata": {},
   "outputs": [],
   "source": [
    "model.save(\"C:/Users/Rachit/Jupyter_notebook/mymodel\")"
   ]
  },
  {
   "cell_type": "code",
   "execution_count": 159,
   "metadata": {},
   "outputs": [],
   "source": [
    "model = tf.keras.models.load_model(\"./mymodel/\")"
   ]
  },
  {
   "cell_type": "code",
   "execution_count": 134,
   "metadata": {},
   "outputs": [
    {
     "name": "stdout",
     "output_type": "stream",
     "text": [
      "Model: \"sequential_43\"\n",
      "_________________________________________________________________\n",
      "Layer (type)                 Output Shape              Param #   \n",
      "=================================================================\n",
      "bidirectional_26 (Bidirectio (None, 8, 100)            20800     \n",
      "_________________________________________________________________\n",
      "dropout_50 (Dropout)         (None, 8, 100)            0         \n",
      "_________________________________________________________________\n",
      "lstm_91 (LSTM)               (None, 50)                30200     \n",
      "_________________________________________________________________\n",
      "dropout_51 (Dropout)         (None, 50)                0         \n",
      "_________________________________________________________________\n",
      "dense_91 (Dense)             (None, 25)                1275      \n",
      "_________________________________________________________________\n",
      "activation_6 (Activation)    (None, 25)                0         \n",
      "_________________________________________________________________\n",
      "dense_92 (Dense)             (None, 10)                260       \n",
      "_________________________________________________________________\n",
      "dense_93 (Dense)             (None, 1)                 11        \n",
      "=================================================================\n",
      "Total params: 52,546\n",
      "Trainable params: 52,546\n",
      "Non-trainable params: 0\n",
      "_________________________________________________________________\n"
     ]
    }
   ],
   "source": [
    "model.summary()"
   ]
  },
  {
   "cell_type": "code",
   "execution_count": 168,
   "metadata": {},
   "outputs": [
    {
     "data": {
      "text/html": [
       "<div>\n",
       "<style scoped>\n",
       "    .dataframe tbody tr th:only-of-type {\n",
       "        vertical-align: middle;\n",
       "    }\n",
       "\n",
       "    .dataframe tbody tr th {\n",
       "        vertical-align: top;\n",
       "    }\n",
       "\n",
       "    .dataframe thead th {\n",
       "        text-align: right;\n",
       "    }\n",
       "</style>\n",
       "<table border=\"1\" class=\"dataframe\">\n",
       "  <thead>\n",
       "    <tr style=\"text-align: right;\">\n",
       "      <th></th>\n",
       "      <th>month</th>\n",
       "      <th>quarter</th>\n",
       "      <th>Target</th>\n",
       "      <th>gnp</th>\n",
       "      <th>gdpdef</th>\n",
       "      <th>gdp</th>\n",
       "    </tr>\n",
       "    <tr>\n",
       "      <th>date</th>\n",
       "      <th></th>\n",
       "      <th></th>\n",
       "      <th></th>\n",
       "      <th></th>\n",
       "      <th></th>\n",
       "      <th></th>\n",
       "    </tr>\n",
       "  </thead>\n",
       "  <tbody>\n",
       "    <tr>\n",
       "      <th>2020-01-01</th>\n",
       "      <td>2020-01</td>\n",
       "      <td>2020Q1</td>\n",
       "      <td>18951.992</td>\n",
       "      <td>21721.267</td>\n",
       "      <td>113.346</td>\n",
       "      <td>21481.367</td>\n",
       "    </tr>\n",
       "    <tr>\n",
       "      <th>2020-04-01</th>\n",
       "      <td>2020-04</td>\n",
       "      <td>2020Q2</td>\n",
       "      <td>17258.205</td>\n",
       "      <td>19649.442</td>\n",
       "      <td>112.859</td>\n",
       "      <td>19477.444</td>\n",
       "    </tr>\n",
       "    <tr>\n",
       "      <th>2020-07-01</th>\n",
       "      <td>2020-07</td>\n",
       "      <td>2020Q3</td>\n",
       "      <td>18560.774</td>\n",
       "      <td>21365.412</td>\n",
       "      <td>113.888</td>\n",
       "      <td>21138.574</td>\n",
       "    </tr>\n",
       "    <tr>\n",
       "      <th>2020-10-01</th>\n",
       "      <td>2020-10</td>\n",
       "      <td>2020Q4</td>\n",
       "      <td>18767.778</td>\n",
       "      <td>21728.223</td>\n",
       "      <td>114.439</td>\n",
       "      <td>21477.597</td>\n",
       "    </tr>\n",
       "    <tr>\n",
       "      <th>2021-01-01</th>\n",
       "      <td>2021-01</td>\n",
       "      <td>2021Q1</td>\n",
       "      <td>19055.655</td>\n",
       "      <td>22273.060</td>\n",
       "      <td>115.652</td>\n",
       "      <td>22038.226</td>\n",
       "    </tr>\n",
       "  </tbody>\n",
       "</table>\n",
       "</div>"
      ],
      "text/plain": [
       "              month quarter     Target        gnp   gdpdef        gdp\n",
       "date                                                                 \n",
       "2020-01-01  2020-01  2020Q1  18951.992  21721.267  113.346  21481.367\n",
       "2020-04-01  2020-04  2020Q2  17258.205  19649.442  112.859  19477.444\n",
       "2020-07-01  2020-07  2020Q3  18560.774  21365.412  113.888  21138.574\n",
       "2020-10-01  2020-10  2020Q4  18767.778  21728.223  114.439  21477.597\n",
       "2021-01-01  2021-01  2021Q1  19055.655  22273.060  115.652  22038.226"
      ]
     },
     "execution_count": 168,
     "metadata": {},
     "output_type": "execute_result"
    }
   ],
   "source": [
    "data.tail()"
   ]
  },
  {
   "cell_type": "code",
   "execution_count": 197,
   "metadata": {},
   "outputs": [],
   "source": [
    "quarter_results = np.zeros(6)\n",
    "dl = data.filter(['Target'])\n",
    "\n",
    "for i in range(0,6):\n",
    "    dx = dl[-8+i:]\n",
    "    if dx.shape[0] != 8:\n",
    "        ap = quarter_results[:8-dx.shape[0]].reshape(-1,1)\n",
    "        dx = np.append(dx.values,ap)\n",
    "        \n",
    "    else:\n",
    "        dx = dx.values\n",
    "        \n",
    "    result = scalar.transform(dx.reshape(-1,1))\n",
    "    result = result.reshape(1,8,1)\n",
    "    result = model.predict(result)\n",
    "    result = scalar.inverse_transform(result)\n",
    "    quarter_results[i] = result[0][0]"
   ]
  },
  {
   "cell_type": "code",
   "execution_count": 198,
   "metadata": {},
   "outputs": [
    {
     "data": {
      "text/plain": [
       "array([18709.33007812, 18581.14453125, 18528.765625  , 18464.85351562,\n",
       "       18409.50976562, 18377.92382812])"
      ]
     },
     "execution_count": 198,
     "metadata": {},
     "output_type": "execute_result"
    }
   ],
   "source": [
    "quarter_results"
   ]
  },
  {
   "cell_type": "code",
   "execution_count": 203,
   "metadata": {},
   "outputs": [],
   "source": [
    "Date = ['2021-04-01','2021-07-01','2021-10-01','2022-01-01','2022-04-01','2022-07-01']\n",
    "data = pd.DataFrame(Date,columns=['Date'])\n",
    "data['Quarter'] = quarter_results\n",
    "\n",
    "data['Date'] = pd.to_datetime(data['Date'])\n",
    "data.set_index('Date',inplace=True)"
   ]
  },
  {
   "cell_type": "code",
   "execution_count": 205,
   "metadata": {},
   "outputs": [],
   "source": [
    "data.to_csv(\"C:/Users/Rachit/Jupyter_notebook/result.csv\")"
   ]
  },
  {
   "cell_type": "code",
   "execution_count": 182,
   "metadata": {},
   "outputs": [
    {
     "data": {
      "text/plain": [
       "0.0"
      ]
     },
     "execution_count": 182,
     "metadata": {},
     "output_type": "execute_result"
    }
   ],
   "source": [
    "m = tf.keras.metrics.Accuracy()\n",
    "m.update_state(scalar.inverse_transform(y_train.reshape(-1,1)),train_predictions)\n",
    "m.result().numpy()"
   ]
  },
  {
   "cell_type": "code",
   "execution_count": null,
   "metadata": {},
   "outputs": [],
   "source": [
    "m = tf.keras.metrics.Accuracy()\n",
    "m.update_state(scalar.inverse_transform(y_train.reshape(-1,1)),train_predictions).numpy()"
   ]
  },
  {
   "cell_type": "code",
   "execution_count": null,
   "metadata": {},
   "outputs": [],
   "source": []
  }
 ],
 "metadata": {
  "kernelspec": {
   "display_name": "Python 3",
   "language": "python",
   "name": "python3"
  },
  "language_info": {
   "codemirror_mode": {
    "name": "ipython",
    "version": 3
   },
   "file_extension": ".py",
   "mimetype": "text/x-python",
   "name": "python",
   "nbconvert_exporter": "python",
   "pygments_lexer": "ipython3",
   "version": "3.8.8"
  }
 },
 "nbformat": 4,
 "nbformat_minor": 4
}
